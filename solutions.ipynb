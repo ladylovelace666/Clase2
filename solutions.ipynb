{
 "cells": [
  {
   "cell_type": "markdown",
   "metadata": {},
   "source": []
  },
  {
   "cell_type": "markdown",
   "metadata": {},
   "source": [
    "PS C:\\Users\\usuario> write/echo 'Hello world'\n",
    "Hello world"
   ]
  },
  {
   "cell_type": "markdown",
   "metadata": {},
   "source": [
    "PS C:\\Users\\usuario\\Desktop\\clase\\python4menisco-main\\labs\\1-lab-bash> md 'new_dir2'\n",
    "PS C:\\Users\\usuario\\Desktop\\clase\\python4menisco-main\\labs\\1-lab-bash> ls\n",
    "\n",
    "\n",
    "    Directorio: C:\\Users\\usuario\\Desktop\\clase\\python4menisco-main\\labs\\1-lab-bash\n",
    "\n",
    "\n",
    "Mode                 LastWriteTime         Length Name\n",
    "----                 -------------         ------ ----\n",
    "d-----        09/02/2024     12:35                lorem\n",
    "d-----        09/02/2024     12:16                new_dir\n",
    "d-----        16/02/2024     13:59                new_dir2\n",
    "-a----        09/02/2024     12:00           2278 README.md\n",
    "-a----        09/02/2024     12:09              0 solutions.ipynb"
   ]
  },
  {
   "cell_type": "markdown",
   "metadata": {},
   "source": [
    "PS C:\\Users\\usuario\\Desktop\\clase> alias\n",
    "\"Con esto veo todos los comandos\"   "
   ]
  },
  {
   "cell_type": "markdown",
   "metadata": {},
   "source": [
    "PS C:\\Users\\usuario\\Desktop\\clase> mkdir newdir\n",
    "\n",
    "\n",
    "    Directorio: C:\\Users\\usuario\\Desktop\\clase\n",
    "\n",
    "\n",
    "Mode                 LastWriteTime         Length Name\n",
    "----                 -------------         ------ ----\n",
    "d-----        23/02/2024      9:44                newdir\n",
    "\n",
    "\n",
    "PS C:\\Users\\usuario\\Desktop\\clase> LS\n",
    "\n",
    "\n",
    "    Directorio: C:\\Users\\usuario\\Desktop\\clase\n",
    "\n",
    "\n",
    "Mode                 LastWriteTime         Length Name\n",
    "----                 -------------         ------ ----\n",
    "d-----        16/02/2024     10:08                Clase2\n",
    "d-----        23/02/2024      9:44                newdir\n",
    "d-----        16/02/2024      9:24                python4menisco-main\n",
    "-a----        16/02/2024     10:23             40 hola.txt\n",
    "-a----        09/02/2024     12:00       12269021 python4menisco-main.zip\n"
   ]
  },
  {
   "cell_type": "markdown",
   "metadata": {},
   "source": [
    "PS C:\\Users\\usuario\\Desktop\\clase> rmdir newdir\n",
    "PS C:\\Users\\usuario\\Desktop\\clase> ls\n",
    "\n",
    "\n",
    "    Directorio: C:\\Users\\usuario\\Desktop\\clase\n",
    "\n",
    "\n",
    "Mode                 LastWriteTime         Length Name\n",
    "----                 -------------         ------ ----\n",
    "d-----        16/02/2024     10:08                Clase2\n",
    "d-----        16/02/2024      9:24                python4menisco-main\n",
    "-a----        16/02/2024     10:23             40 hola.txt\n",
    "-a----        09/02/2024     12:00       12269021 python4menisco-main.zip"
   ]
  },
  {
   "cell_type": "markdown",
   "metadata": {},
   "source": [
    "PS C:\\Users\\usuario\\Desktop\\clase\\python4menisco-main\\labs\\1-lab-bash\\lorem> dir\n",
    "\n",
    "\n",
    "    Directorio: C:\\Users\\usuario\\Desktop\\clase\\python4menisco-main\\labs\\1-lab-bash\\lorem\n",
    "\n",
    "\n",
    "Mode                 LastWriteTime         Length Name\n",
    "----                 -------------         ------ ----\n",
    "-a----        09/02/2024     12:00            852 at.txt\n",
    "-a----        09/02/2024     12:00            448 lorem.txt\n",
    "-a----        09/02/2024     12:00            873 sed.txt\n",
    "\n",
    "\n",
    "PS C:\\Users\\usuario\\Desktop\\clase\\python4menisco-main\\labs\\1-lab-bash\\lorem> ls\n",
    "\n",
    "\n",
    "    Directorio: C:\\Users\\usuario\\Desktop\\clase\\python4menisco-main\\labs\\1-lab-bash\\lorem\n",
    "\n",
    "\n",
    "Mode                 LastWriteTime         Length Name\n",
    "----                 -------------         ------ ----\n",
    "-a----        09/02/2024     12:00            852 at.txt\n",
    "-a----        09/02/2024     12:00            448 lorem.txt\n",
    "-a----        09/02/2024     12:00            873 sed.txt\n",
    "\n",
    "\n",
    "\"Estos comandos hacen lo mismo\""
   ]
  },
  {
   "cell_type": "markdown",
   "metadata": {},
   "source": [
    "\"Despues de crear lorem copy con el comando mkdir:\"\n",
    "PS C:\\Users\\usuario\\Desktop\\clase\\python4menisco-main\\labs\\1-lab-bash\\lorem> copy C:\\Users\\usuario\\Desktop\\clase\\python4menisco-main\\labs\\1-lab-bash\\lorem\\sed.txt C:\\Users\\usuario\\Desktop\\clase\\python4menisco-main\\labs\\1-lab-bash\\loremcopy\n",
    "PS C:\\Users\\usuario\\Desktop\\clase\\python4menisco-main\\labs\\1-lab-bash\\lorem> cd..\n",
    "PS C:\\Users\\usuario\\Desktop\\clase\\python4menisco-main\\labs\\1-lab-bash> cd .\\loremcopy\\\n",
    "PS C:\\Users\\usuario\\Desktop\\clase\\python4menisco-main\\labs\\1-lab-bash\\loremcopy> ls\n",
    "\n",
    "\n",
    "    Directorio: C:\\Users\\usuario\\Desktop\\clase\\python4menisco-main\\labs\\1-lab-bash\\loremcopy\n",
    "\n",
    "\n",
    "Mode                 LastWriteTime         Length Name\n",
    "----                 -------------         ------ ----\n",
    "-a----        09/02/2024     12:00            873 sed.txt"
   ]
  },
  {
   "cell_type": "markdown",
   "metadata": {},
   "source": [
    "PS C:\\Users\\usuario\\Desktop\\clase\\python4menisco-main\\labs\\1-lab-bash\\loremcopy> type .\\sed.txt\n",
    "Sed ut perspiciatis unde omnis iste natus error sit voluptatem accusantium doloremque laudantium,\n",
    "totam rem aperiam, eaque ipsa quae ab illo inventore veritatis et quasi architecto beatae vitae dicta sunt explicabo.\n",
    "Nemo enim ipsam voluptatem quia voluptas sit aspernatur aut odit aut fugit,\n",
    "sed quia consequuntur magni dolores eos qui ratione voluptatem sequi nesciunt.\n",
    "Neque porro quisquam est, qui dolorem ipsum quia dolor sit amet, consectetur, adipisci velit,\n",
    "sed quia non numquam eius modi tempora incidunt ut labore et dolore magnam aliquam quaerat voluptatem.\n",
    "Ut enim ad minima veniam, quis nostrum exercitationem ullam corporis suscipit laboriosam,\n",
    "nisi ut aliquid ex ea commodi consequatur? Quis autem vel eum iure reprehenderit qui in ea voluptate velit esse quam nihil molestiae consequatur,\n",
    "vel illum qui dolorem eum fugiat quo voluptas nulla pariatur?\n",
    "\n",
    " type -> Get-Content\n",
    "PS C:\\Users\\usuario\\Desktop\\clase\\python4menisco-main\\labs\\1-lab-bash\\loremcopy> get-content .\\sed.txt |more.com \n",
    "\"Esto es otra forma de mostrar el contenido del txt\"\n"
   ]
  },
  {
   "cell_type": "markdown",
   "metadata": {},
   "source": [
    "PS C:\\Users\\usuario\\Desktop\\clase\\python4menisco-main\\labs\\1-lab-bash\\lorem> type .\\at.txt\n",
    "At vero eos et accusamus et iusto odio dignissimos ducimus qui blanditiis praesentium voluptatum\n",
    "deleniti atque corrupti quos dolores et quas molestias excepturi sint occaecati cupiditate non\n",
    "provident, similique sunt in culpa qui officia deserunt mollitia animi, id est laborum et dolorum fuga.\n",
    "Et harum quidem rerum facilis est et expedita distinctio.\n",
    "Nam libero tempore, cum soluta nobis est eligendi optio cumque nihil impedit quo minus id quod\n",
    "maxime placeat facere possimus, omnis voluptas assumenda est, omnis dolor repellendus.\n",
    "Temporibus autem quibusdam et aut officiis debitis aut rerum necessitatibus saepe eveniet\n",
    "ut et voluptates repudiandae sint et molestiae non recusandae.\n",
    "Itaque earum rerum hic tenetur a sapiente delectus, ut aut reiciendis voluptatibus maiores\n",
    "alias consequatur aut perferendis doloribus asperiores repellat\n",
    "\n",
    "\n",
    "PS C:\\Users\\usuario\\Desktop\\clase\\python4menisco-main\\labs\\1-lab-bash\\lorem> type .\\lorem.txt\n",
    "Lorem ipsum dolor sit amet, consectetur adipiscing elit, sed do eiusmod tempor incididunt ut labore et dolore magna aliqua.\n",
    "Ut enim ad minim veniam, quis nostrud exercitation ullamco laboris nisi ut aliquip ex ea commodo consequat.\n",
    "Duis aute irure dolor in reprehenderit in voluptate velit esse cillum dolore eu fugiat nulla pariatur.\n",
    "Excepteur sint occaecat cupidatat non proident, sunt in culpa qui officia deserunt mollit anim id est laborum."
   ]
  },
  {
   "cell_type": "markdown",
   "metadata": {},
   "source": [
    "PS C:\\Users\\usuario\\Desktop\\clase\\python4menisco-main\\labs\\1-lab-bash\\loremcopy> Get-Content .\\sed.txt | Select-Object -First 3\n",
    "Sed ut perspiciatis unde omnis iste natus error sit voluptatem accusantium doloremque laudantium,\n",
    "totam rem aperiam, eaque ipsa quae ab illo inventore veritatis et quasi architecto beatae vitae dicta sunt explicabo.\n",
    "Nemo enim ipsam voluptatem quia voluptas sit aspernatur aut odit aut fugit,\n",
    "\n",
    "PS C:\\Users\\usuario\\Desktop\\clase\\python4menisco-main\\labs\\1-lab-bash\\loremcopy> Get-Content .\\sed.txt | Select-Object -First 3 | more\n",
    "Sed ut perspiciatis unde omnis iste natus error sit voluptatem accusantium doloremque laudantium,\n",
    "totam rem aperiam, eaque ipsa quae ab illo inventore veritatis et quasi architecto beatae vitae dicta sunt explicabo.\n",
    "Nemo enim ipsam voluptatem quia voluptas sit aspernatur aut odit aut fugit,\n",
    "\n",
    "\"Dos formas de mostrar solo las tres primeras lineas\""
   ]
  },
  {
   "cell_type": "markdown",
   "metadata": {},
   "source": [
    "PS C:\\Users\\usuario\\Desktop\\clase\\python4menisco-main\\labs\\1-lab-bash\\loremcopy> add-content .\\sed.txt -value \"Homo homini lupus\"\n",
    " ac -> Add-Content"
   ]
  },
  {
   "cell_type": "markdown",
   "metadata": {},
   "source": [
    "PS C:\\Users\\usuario\\Desktop\\clase\\python4menisco-main\\labs\\1-lab-bash\\loremcopy> type -Tail 3 .\\sed.txt\n",
    "Ut enim ad minima veniam, quis nostrum exercitationem ullam corporis suscipit laboriosam,\n",
    "nisi ut aliquid ex ea commodi consequatur? Quis autem vel eum iure reprehenderit qui in ea voluptate velit esse quam nihil molestiae consequatur,\n",
    "vel illum qui dolorem eum fugiat quo voluptas nulla pariatur?Homo homini lupus\n",
    "\n",
    "\" el anterior por lo tanto se puede hacer tb así\"\n",
    "PS C:\\Users\\usuario\\Desktop\\clase\\python4menisco-main\\labs\\1-lab-bash\\loremcopy> type -First 3 .\\sed.txt\n",
    "Sed ut perspiciatis unde omnis iste natus error sit voluptatem accusantium doloremque laudantium,\n",
    "totam rem aperiam, eaque ipsa quae ab illo inventore veritatis et quasi architecto beatae vitae dicta sunt explicabo.\n",
    "Nemo enim ipsam voluptatem quia voluptas sit aspernatur aut odit aut fugit,"
   ]
  },
  {
   "cell_type": "markdown",
   "metadata": {},
   "source": [
    "PS C:\\Users\\usuario\\Desktop\\clase\\python4menisco-main\\labs\\1-lab-bash\\loremcopy> gwmi -class Win32_ComputerSystem | select -ExpandProperty UserName\n",
    "ALAUDA-INES-VIL\\usuario\n",
    "\"Forma corta\"\n",
    "PS C:\\Users\\usuario\\Desktop\\clase\\python4menisco-main\\labs\\1-lab-bash\\loremcopy> Get-WmiObject -Class Win32_ComputerSystem | Select-Object -ExpandProperty UserName\n",
    "ALAUDA-INES-VIL\\usuario\n",
    "\"Forma larga\"\n",
    "PS C:\\Users\\usuario\\Desktop\\clase\\python4menisco-main\\labs\\1-lab-bash\\loremcopy> gwmi\n",
    "\n",
    "cmdlet Get-WmiObject en la posición 1 de la canalización de comandos\n",
    "Proporcione valores para los parámetros siguientes:\n",
    "Class: Win32_ComputerSystem\n",
    "\n",
    "\n",
    "Domain              : WORKGROUP\n",
    "Manufacturer        : Micro-Star International Co., Ltd.\n",
    "Model               : GF63 Thin 11UC\n",
    "Name                : ALAUDA-INES-VIL\n",
    "PrimaryOwnerName    : usuario\n",
    "TotalPhysicalMemory : 16866881536\n",
    "\n",
    "\n",
    "\" resumen, -ExpandProperty se utiliza para simplificar la salida y mostrar solo los valores de una propiedad específica de los objetos devueltos por un comando\"\n",
    "\"Forma de juan \"\n",
    "PS C:\\Users> whoami\n",
    "alauda-ines-vil\\usuario"
   ]
  },
  {
   "cell_type": "markdown",
   "metadata": {},
   "source": [
    "PS C:\\Users\\usuario\\Desktop\\clase\\python4menisco-main\\labs\\1-lab-bash\\loremcopy> pwd\n",
    "Path\n",
    "----\n",
    "C:\\Users\\usuario\\Desktop\\clase\\python4menisco-main\\labs\\1-lab-bash\\loremcopy"
   ]
  },
  {
   "cell_type": "markdown",
   "metadata": {},
   "source": [
    "PS C:\\Users\\USUARIO\\Desktop\\clase\\python4menisco-main\\labs\\1-lab-bash> ls .\\lorem\\*.txt\n",
    "\n",
    "\n",
    "    Directorio: C:\\Users\\USUARIO\\Desktop\\clase\\python4menisco-main\\labs\\1-lab-bash\\lorem\n",
    "\n",
    "\n",
    "Mode                 LastWriteTime         Length Name\n",
    "----                 -------------         ------ ----\n",
    "-a----        09/02/2024     12:00            852 at.txt\n",
    "-a----        09/02/2024     12:00            448 lorem.txt\n",
    "-a----        09/02/2024     12:00            873 sed.txt\n",
    "PS C:\\Users\\USUARIO\\Desktop\\clase\\python4menisco-main\\labs\\1-lab-bash> Get-ChildItem -Path .\\lorem\\ -Filter *.txt\n",
    "\n",
    "\n",
    "    Directorio: C:\\Users\\USUARIO\\Desktop\\clase\\python4menisco-main\\labs\\1-lab-bash\\lorem\n",
    "\n",
    "\n",
    "Mode                 LastWriteTime         Length Name\n",
    "----                 -------------         ------ ----\n",
    "-a----        09/02/2024     12:00            852 at.txt\n",
    "-a----        09/02/2024     12:00            448 lorem.txt\n",
    "-a----        09/02/2024     12:00            873 sed.txt\n"
   ]
  },
  {
   "cell_type": "markdown",
   "metadata": {},
   "source": [
    "PS C:\\Users\\USUARIO\\Desktop\\clase\\python4menisco-main\\labs\\1-lab-bash> (Get-Content .\\lorem\\sed.txt).Count\n",
    "9"
   ]
  },
  {
   "cell_type": "markdown",
   "metadata": {},
   "source": [
    "PS C:\\Users\\USUARIO\\Desktop\\clase\\python4menisco-main\\labs\\1-lab-bash> (get-content .\\lorem\\lorem*).count\n",
    "4\n",
    "PS C:\\Users\\USUARIO\\Desktop\\clase\\python4menisco-main\\labs\\1-lab-bash> (type .\\lorem\\lorem*).count\n",
    "4\n",
    "\" estas de arriba están mal no se que hacen, preguntar a juan\"\n",
    "\n",
    "PS C:\\Users\\USUARIO\\Desktop\\clase\\python4menisco-main\\labs\\1-lab-bash> (dir .\\lorem\\lorem* -File -Recurse | Measure-Object).Count\n",
    "1\n",
    "\"Sale uno porque lorem_copy lo he guardado como loremcopy, probar a cambiar\"\n"
   ]
  },
  {
   "cell_type": "markdown",
   "metadata": {},
   "source": [
    "PS C:\\Users\\USUARIO\\Desktop\\clase\\python4menisco-main\\labs\\1-lab-bash> sls -Path .\\lorem\\at.txt -Pattern 'et' | Measure-Object -Line\n",
    "\n",
    "Lines Words Characters Property\n",
    "----- ----- ---------- --------\n",
    "    7"
   ]
  },
  {
   "cell_type": "markdown",
   "metadata": {},
   "source": []
  }
 ],
 "metadata": {
  "language_info": {
   "name": "python"
  }
 },
 "nbformat": 4,
 "nbformat_minor": 2
}
